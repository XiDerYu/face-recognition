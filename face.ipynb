{
  "cells": [
    {
      "cell_type": "markdown",
      "metadata": {
        "id": "view-in-github",
        "colab_type": "text"
      },
      "source": [
        "<a href=\"https://colab.research.google.com/github/XiDerYu/face-recognition/blob/main/face.ipynb\" target=\"_parent\"><img src=\"https://colab.research.google.com/assets/colab-badge.svg\" alt=\"Open In Colab\"/></a>"
      ]
    },
    {
      "cell_type": "code",
      "execution_count": null,
      "metadata": {
        "id": "JFPHA6xB69CB"
      },
      "outputs": [],
      "source": [
        "!pip install opencv-python cmake face_recognition"
      ]
    },
    {
      "cell_type": "code",
      "execution_count": null,
      "metadata": {
        "id": "dJ-7qSvUQGKI"
      },
      "outputs": [],
      "source": [
        "!mkdir facedata\n",
        "!wget https://i.imgur.com/I6FpRmB.jpg -O facedata/Elon_Musk.jpg\n",
        "!wget https://i.imgur.com/oIvgQbg.jpg -O facedata/Tim_Cook.jpg\n",
        "!wget https://i.imgur.com/ynPcb47.jpg -O facedata/gay.jpg\n",
        "\n",
        "!mkdir testdata\n",
        "!wget https://i.imgur.com/fqfI2pe.jpg -O testdata/Elon_Musk1.jpg\n",
        "!wget https://i.imgur.com/adsjyRg.jpg -O testdata/Elon_Musk2.jpg\n",
        "!wget https://i.imgur.com/BUHEiZj.jpg -O testdata/Elon_Musk3.jpg\n",
        "!wget https://i.imgur.com/xEdiRiT.jpg -O testdata/Elon_Musk4.jpg\n",
        "!wget https://i.imgur.com/NO5QQUg.jpg -O testdata/Tim_Cook1.jpg\n",
        "!wget https://i.imgur.com/ScL5zKk.jpg -O testdata/Tim_Cook2.jpg\n",
        "!wget https://i.imgur.com/Nw1YmP6.jpg -O testdata/Elon_and_Cook.jpg\n",
        "!wget https://i.imgur.com/zCY9QaB.jpg -O testdata/gay1.jpg\n",
        "!wget https://i.imgur.com/JvKCoT0.jpg -O testdata/gay2.jpg\n",
        "!wget https://i.imgur.com/q0aAIiJ.jpg -O testdata/gay3.jpg\n",
        "!wget https://i.imgur.com/goyvzbI.png -O testdata/me.jpg\n",
        "!wget https://i.imgur.com/Q3OPd19.png -O testdata/oscar1.jpg"
      ]
    },
    {
      "cell_type": "code",
      "execution_count": null,
      "metadata": {
        "id": "6NfrPCKUHfD4"
      },
      "outputs": [],
      "source": [
        "import cv2\n",
        "import numpy as np\n",
        "import face_recognition\n",
        "import os\n",
        "from skimage import io\n",
        "from google.colab.patches import cv2_imshow\n",
        "known_face_list = [\n",
        "    {\n",
        "        'name': 'Elon Musk',\n",
        "        'filename': 'facedata/Elon_Musk.jpg',\n",
        "        'encode': None,\n",
        "    },\n",
        "    {\n",
        "        'name': 'Tim cook',\n",
        "        'filename': 'facedata/Tim_Cook.jpg',\n",
        "        'encode': None,        \n",
        "    },\n",
        "    {\n",
        "        'name': 'Gay',\n",
        "        'filename': 'facedata/gay.jpg',\n",
        "        'encode': None,        \n",
        "    }\n",
        "]"
      ]
    },
    {
      "cell_type": "code",
      "execution_count": null,
      "metadata": {
        "id": "w2PYKOjlJrWy"
      },
      "outputs": [],
      "source": [
        "for data in known_face_list:\n",
        "    img = io.imread(data['filename'])\n",
        "    img = cv2.cvtColor(img,cv2.COLOR_BGR2RGB)\n",
        "    data['encode'] = face_recognition.face_encodings(img)[0]\n",
        "print(known_face_list)"
      ]
    },
    {
      "cell_type": "code",
      "execution_count": null,
      "metadata": {
        "colab": {
          "base_uri": "https://localhost:8080/"
        },
        "id": "OhXJGebrNzGq",
        "outputId": "10c7d27e-14f6-4aeb-e59d-e55a500cf5bb"
      },
      "outputs": [
        {
          "output_type": "stream",
          "name": "stdout",
          "text": [
            "['testdata/Elon_Musk2.jpg', 'testdata/me.jpg', 'testdata/Elon_Musk4.jpg', 'testdata/Elon_Musk1.jpg', 'testdata/oscar1.jpg', 'testdata/Tim_Cook1.jpg', 'testdata/gay3.jpg', 'testdata/Tim_Cook2.jpg', 'testdata/Elon_Musk3.jpg', 'testdata/Elon_and_Cook.jpg', 'testdata/gay2.jpg', 'testdata/gay1.jpg']\n"
          ]
        }
      ],
      "source": [
        "dirl = os.listdir('testdata')\n",
        "test_fn_list = []\n",
        "for filename in dirl:\n",
        "  if '.jpg' in filename:\n",
        "    test_fn_list.append('testdata/' + filename)\n",
        "print(test_fn_list)\n",
        "known_face_encodes = [data['encode'] for data in known_face_list]\n",
        "tolerance = 0.6"
      ]
    },
    {
      "cell_type": "code",
      "execution_count": null,
      "metadata": {
        "id": "dqNr4-Ljl7FM"
      },
      "outputs": [],
      "source": [
        "RED_COLOR = (200, 58, 76)\n",
        "WHITE_COLOR = (255, 255, 255)\n",
        "\n",
        "def draw_locations(img, match_results):\n",
        "    for match_result in match_results:\n",
        "        y1, x2, y2, x1 = match_result['location']\n",
        "        cv2.rectangle(img, (x1, y1), (x2, y2), RED_COLOR, 2)\n",
        "        cv2.rectangle(img, (x1, y2 + 35), (x2, y2), RED_COLOR, cv2.FILLED)\n",
        "        cv2.putText(img, match_result['name'], (x1 + 10, y2 + 25), cv2.FONT_HERSHEY_COMPLEX, 0.8, WHITE_COLOR, 2)"
      ]
    },
    {
      "cell_type": "code",
      "execution_count": null,
      "metadata": {
        "id": "LEYtzsrAVadc"
      },
      "outputs": [],
      "source": [
        "for fn in test_fn_list:\n",
        "    match_results = []\n",
        "    img = io.imread(fn)\n",
        "    img = cv2.cvtColor(img, cv2.COLOR_BGR2RGB)\n",
        "    \n",
        "    cur_face_locs = face_recognition.face_locations(img)\n",
        "    cur_face_encodes = face_recognition.face_encodings(img, cur_face_locs, model='large')\n",
        "    \n",
        "    for cur_face_encode, cur_face_loc in zip(cur_face_encodes, cur_face_locs):\n",
        "      face_distance_list = face_recognition.face_distance(known_face_encodes, cur_face_encode)\n",
        "        \n",
        "      min_distance_index = np.argmin(face_distance_list)\n",
        "      if face_distance_list[min_distance_index] < tolerance:\n",
        "          result = known_face_list[min_distance_index]['name']\n",
        "      else:\n",
        "          result = 'unknow'\n",
        "            \n",
        "      print(f'辨識檔案: {fn}, 辨識結果: {result}')\n",
        "      match_results.append({\n",
        "          'name': result,\n",
        "          'location': cur_face_loc,\n",
        "      })\n",
        "      draw_locations(img, match_results)\n",
        "    cv2_imshow(img)"
      ]
    }
  ],
  "metadata": {
    "accelerator": "GPU",
    "colab": {
      "provenance": [],
      "include_colab_link": true
    },
    "gpuClass": "standard",
    "kernelspec": {
      "display_name": "Python 3",
      "name": "python3"
    },
    "language_info": {
      "name": "python"
    }
  },
  "nbformat": 4,
  "nbformat_minor": 0
}